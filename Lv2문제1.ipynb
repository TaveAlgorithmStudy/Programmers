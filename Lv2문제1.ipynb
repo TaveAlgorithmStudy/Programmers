{
  "nbformat": 4,
  "nbformat_minor": 0,
  "metadata": {
    "colab": {
      "provenance": []
    },
    "kernelspec": {
      "name": "python3",
      "display_name": "Python 3"
    },
    "language_info": {
      "name": "python"
    }
  },
  "cells": [
    {
      "cell_type": "code",
      "execution_count": null,
      "metadata": {
        "id": "nPNIDUhUHEY2"
      },
      "outputs": [],
      "source": [
        "#이진변환 반복하기\n",
        "\n",
        "def solution(s):\n",
        "    \n",
        "    res=[0,0]\n",
        "    \n",
        "    def ejin(x):\n",
        "        k,ans=0,\"\"\n",
        "        \n",
        "        while 2**k<=x:\n",
        "            k+=1\n",
        "        else: k-=1\n",
        "    \n",
        "        while k>-1:\n",
        "            if x>=2**k:\n",
        "                x-=2**k\n",
        "                ans+='1'\n",
        "            else: ans+='0'\n",
        "            k-=1\n",
        "        \n",
        "        res[0]+=1\n",
        "        return ans\n",
        "      \n",
        "    \n",
        "    \n",
        "    while s!=\"1\":\n",
        "        new_s=s.replace('0','')\n",
        "        res[1]+=(len(s)-len(new_s))\n",
        "        s=bin(len(new_s))[2:]\n",
        "        res[0]+=1\n",
        "        \n",
        "    return res"
      ]
    },
    {
      "cell_type": "code",
      "source": [
        "#메뉴 리뉴얼\n",
        "\n",
        "#다른 분 풀이에 주석\n",
        "\n",
        "import collections\n",
        "import itertools\n",
        "\n",
        "def solution(orders, course):\n",
        "    result = []\n",
        "\n",
        "    for course_size in course: #코스 개수마다\n",
        "        order_combinations = []\n",
        "        for order in orders:\n",
        "            order_combinations += itertools.combinations(sorted(order), course_size)\n",
        "            print('combinations', order_combinations) #사람별로 조합을 만든 후\n",
        "            \n",
        "        most_ordered = collections.Counter(order_combinations).most_common() #그 개수를 셈\n",
        "        print('most_ordered',most_ordered)\n",
        "        \n",
        "        result += [ k for k, v in most_ordered if v > 1 and v == most_ordered[0][1] ]\n",
        "\n",
        "    return [ ''.join(v) for v in sorted(result) ]\n",
        "\n",
        "### 미완성 풀이\n",
        "\n",
        "#def solution(orders, course):\n",
        "    \n",
        "#    result=[]\n",
        "#    od={}\n",
        "    \n",
        "#    for i in range(len(orders)):\n",
        "#        od[i]=orders[i]\n",
        "        \n",
        "#    s=set(''.join(orders)) #모든 요리\n",
        "        \n",
        "    \n",
        "#    from itertools import combinations as comb\n",
        "#    for c in course: #[2,3,4] 등 요리 개수\n",
        "#        for cb in list(comb(s,c)): #모든 가능한 c개 요리 조합\n",
        "#            count=0\n",
        "#            for i in range(len(od)): #각 고객에 대해 동시 주문 되었는지 확인\n",
        "#                if set(cb)-set(od[i])==set():\n",
        "#                    count+=1\n",
        "#                if i==len(od)-1 and count>=2:\n",
        "#                    result.append((c,count,''.join(cb)))\n",
        "                    \n",
        "#    result.sort(key=lambda x: (x[0],-x[1]))\n",
        "    \n",
        "#    return result"
      ],
      "metadata": {
        "id": "b-PoG6PYHSy4"
      },
      "execution_count": null,
      "outputs": []
    },
    {
      "cell_type": "code",
      "source": [],
      "metadata": {
        "id": "bkZINF8_IBfL"
      },
      "execution_count": null,
      "outputs": []
    }
  ]
}