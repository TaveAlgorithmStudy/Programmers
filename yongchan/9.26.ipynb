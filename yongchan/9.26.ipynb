{
 "cells": [
  {
   "cell_type": "markdown",
   "id": "cb317268",
   "metadata": {},
   "source": [
    "## 피로도"
   ]
  },
  {
   "cell_type": "code",
   "execution_count": 1,
   "id": "2ef95014",
   "metadata": {},
   "outputs": [],
   "source": [
    "def solution(k, dungeons):\n",
    "    num_dungeon = []\n",
    "    def dfs(iteration, k, dungeons):       \n",
    "        for i, dungeon in enumerate(dungeons):\n",
    "            if dungeon[0] <= k:\n",
    "                next_iter = iteration+1\n",
    "                rem_k = k-dungeon[1]\n",
    "                rem_dungeon = dungeons[:i]+dungeons[i+1:]\n",
    "                num_dungeon.append(dfs(next_iter, rem_k, rem_dungeon))\n",
    "                \n",
    "        return iteration\n",
    "     \n",
    "    dfs(0, k, dungeons)\n",
    "    return max(num_dungeon)"
   ]
  },
  {
   "cell_type": "markdown",
   "id": "eb65bfd0",
   "metadata": {},
   "source": [
    "## k진수에서 소수 개수 구하기"
   ]
  },
  {
   "cell_type": "code",
   "execution_count": 2,
   "id": "5be94ea1",
   "metadata": {},
   "outputs": [],
   "source": [
    "def solution(n, k):\n",
    "    word=\"\"\n",
    "    while n:            # 숫자를 k진법으로 변환\n",
    "        word = str(n%k)+word\n",
    "        n=n//k\n",
    "        \n",
    "    word=word.split(\"0\")  # 변환된 숫자를 0을 기준으로 나눈다.\n",
    "    \n",
    "    count=0\n",
    "    for w in word:\n",
    "        if len(w)==0:    # 만약 0또는 1이거나 빈공간이라면 continue를 통해 건너뛴다.\n",
    "            continue\n",
    "        if int(w)<2:\n",
    "            continue\n",
    "        sosu=True\n",
    "        for i in range(2,int(int(w)**0.5)+1): # 소수찾기\n",
    "            if int(w)%i==0:\n",
    "                sosu=False\n",
    "                break\n",
    "        if sosu:\n",
    "            count+=1\n",
    "            \n",
    "    return count"
   ]
  },
  {
   "cell_type": "code",
   "execution_count": null,
   "id": "c9731e21",
   "metadata": {},
   "outputs": [],
   "source": []
  }
 ],
 "metadata": {
  "kernelspec": {
   "display_name": "Python 3 (ipykernel)",
   "language": "python",
   "name": "python3"
  },
  "language_info": {
   "codemirror_mode": {
    "name": "ipython",
    "version": 3
   },
   "file_extension": ".py",
   "mimetype": "text/x-python",
   "name": "python",
   "nbconvert_exporter": "python",
   "pygments_lexer": "ipython3",
   "version": "3.9.7"
  }
 },
 "nbformat": 4,
 "nbformat_minor": 5
}
