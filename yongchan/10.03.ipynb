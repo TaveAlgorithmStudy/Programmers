{
 "cells": [
  {
   "cell_type": "markdown",
   "id": "f6d8fb70",
   "metadata": {},
   "source": [
    "## 모음사전"
   ]
  },
  {
   "cell_type": "markdown",
   "id": "1f72e9f7",
   "metadata": {},
   "source": [
    "### 풀이 1"
   ]
  },
  {
   "cell_type": "code",
   "execution_count": 1,
   "id": "c15a838b",
   "metadata": {},
   "outputs": [],
   "source": [
    "from itertools import product\n",
    "\n",
    "def solution(word):\n",
    "    vowel_list = ['A','E', 'I', 'O', 'U']\n",
    "    \n",
    "    words = []\n",
    "    for i in range(1, 6):\n",
    "        for p in product(vowel_list, repeat=i):\n",
    "            words.append(''.join(p))\n",
    "    \n",
    "    words.sort()\n",
    "    return words.index(word) + 1\n",
    "            "
   ]
  },
  {
   "cell_type": "markdown",
   "id": "ed26d239",
   "metadata": {},
   "source": [
    "### 풀이 2"
   ]
  },
  {
   "cell_type": "code",
   "execution_count": 2,
   "id": "58016b94",
   "metadata": {},
   "outputs": [],
   "source": [
    "def solution(word):\n",
    "    res = 0\n",
    "    cnt = 0\n",
    "\n",
    "    def dfs(s, w_list):\n",
    "        nonlocal cnt\n",
    "        nonlocal res\n",
    "\n",
    "        if len(s) == 5:\n",
    "            return\n",
    "\n",
    "        for i in w_list:\n",
    "            p = s + i\n",
    "            cnt += 1\n",
    "            if p == word:\n",
    "                res = cnt\n",
    "                break\n",
    "            dfs(p, w_list)\n",
    "\n",
    "\n",
    "    dfs('', [\"A\", \"E\", \"I\", \"O\", \"U\"])\n",
    "    return res"
   ]
  },
  {
   "cell_type": "markdown",
   "id": "279f9b14",
   "metadata": {},
   "source": [
    "## 거리두기 확인하기"
   ]
  },
  {
   "cell_type": "code",
   "execution_count": 4,
   "id": "681a2c6d",
   "metadata": {},
   "outputs": [],
   "source": [
    "from collections import deque\n",
    "\n",
    "def bfs(p):\n",
    "    start = []\n",
    "    \n",
    "    for i in range(5): # 시작점이 되는 P 좌표 구하기 -> i는 행, j는 열\n",
    "        for j in range(5):\n",
    "            if p[i][j] == 'P':\n",
    "                start.append([i, j])\n",
    "    \n",
    "    for s in start:\n",
    "        queue = deque([s])  # 큐에 초기값\n",
    "        visited = [[0]*5 for i in range(5)]   # 방문 처리 리스트\n",
    "        distance = [[0]*5 for i in range(5)]  # 경로 길이 리스트 \n",
    "        visited[s[0]][s[1]] = 1     # P인 곳은 1로 만들어주기\n",
    "        \n",
    "        while queue:\n",
    "            y, x = queue.popleft()  # y는 행, x는 열\n",
    "        \n",
    "            dx = [-1, 1, 0, 0]  # 좌우\n",
    "            dy = [0, 0, -1, 1]  # 상하\n",
    "\n",
    "            for i in range(4):\n",
    "                nx = x + dx[i]\n",
    "                ny = y + dy[i]\n",
    "\n",
    "                if 0<=nx<5 and 0<=ny<5 and visited[ny][nx] == 0:    # 방문하지 않은 곳만 탐색함\n",
    "                    \n",
    "                    if p[ny][nx] == 'O':    # 좌우, 상하에 위치한 값이 0이면 큐에 그 값을 추가함\n",
    "                        queue.append([ny, nx])\n",
    "                        visited[ny][nx] = 1\n",
    "                        distance[ny][nx] = distance[y][x] + 1\n",
    "                    \n",
    "                    if p[ny][nx] == 'P' and distance[y][x] <= 1:    # P로 부터 한칸 떨어져 있으면 0을 리턴함\n",
    "                        return 0\n",
    "    \n",
    "        print(distance)\n",
    "    return 1\n",
    "\n",
    "\n",
    "def solution(places):\n",
    "    answer = []\n",
    "    \n",
    "    for room in places:\n",
    "        answer.append(bfs(room))\n",
    "    \n",
    "    return answer"
   ]
  },
  {
   "cell_type": "code",
   "execution_count": null,
   "id": "542b4209",
   "metadata": {},
   "outputs": [],
   "source": []
  }
 ],
 "metadata": {
  "kernelspec": {
   "display_name": "Python 3 (ipykernel)",
   "language": "python",
   "name": "python3"
  },
  "language_info": {
   "codemirror_mode": {
    "name": "ipython",
    "version": 3
   },
   "file_extension": ".py",
   "mimetype": "text/x-python",
   "name": "python",
   "nbconvert_exporter": "python",
   "pygments_lexer": "ipython3",
   "version": "3.9.7"
  }
 },
 "nbformat": 4,
 "nbformat_minor": 5
}
