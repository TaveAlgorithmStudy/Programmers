{
 "cells": [
  {
   "cell_type": "markdown",
   "id": "cb317268",
   "metadata": {},
   "source": [
    "## 예상 대진표"
   ]
  },
  {
   "cell_type": "code",
   "execution_count": 1,
   "id": "2ef95014",
   "metadata": {},
   "outputs": [],
   "source": [
    "def solution(n,a,b):\n",
    "    ans = 1\n",
    "    while (a+1)//2 != (b+1)//2:\n",
    "        a = (a+1)//2\n",
    "        b = (b+1)//2\n",
    "        ans += 1        \n",
    "        \n",
    "    return ans"
   ]
  },
  {
   "cell_type": "markdown",
   "id": "2c633538",
   "metadata": {},
   "source": [
    "- A와 B의 순서는 둘의 수를 1로 더한 후 2로 나눴을 때 몫이므로 반복문을 써서 해당 값이 같아질때까지 ans 변수에 1을 더하였다."
   ]
  },
  {
   "cell_type": "markdown",
   "id": "eb65bfd0",
   "metadata": {},
   "source": [
    "## 영어 끝말잇기"
   ]
  },
  {
   "cell_type": "code",
   "execution_count": 2,
   "id": "5be94ea1",
   "metadata": {},
   "outputs": [],
   "source": [
    "def solution(n, words):\n",
    "    turn = 0\n",
    "    person = 1\n",
    "    \n",
    "    for i, word in enumerate(words, 1):\n",
    "        rem = i % n\n",
    "        person = n if rem==0 else rem\n",
    "        \n",
    "        if rem == 1:\n",
    "            turn += 1\n",
    "            \n",
    "        if i > 1 and prev_word[-1] != word[0] or (word in words[:i-1]):\n",
    "            return [person, turn]\n",
    "        \n",
    "        prev_word = word\n",
    "   \n",
    "    return [0, 0]"
   ]
  },
  {
   "cell_type": "markdown",
   "id": "63d9243f",
   "metadata": {},
   "source": [
    "- person은 몇 번째 사람인지, turn은 자신의 몇 번째 차례인지 나타내는 변수이다.\n",
    "- 만약 끝말을 잇지 않았거나, 말한 단어가 이미 다른 사람이 말한 단어일 경우 끝말잇기를 중단하고 [person, turn]을 리턴한다.\n",
    "- words에 대한 반복을 완료했을때 탈락자가 생기지 않으면 [0, 0]을 리턴한다."
   ]
  },
  {
   "cell_type": "markdown",
   "id": "e7321476",
   "metadata": {},
   "source": [
    "## 점프와 순간이동"
   ]
  },
  {
   "cell_type": "code",
   "execution_count": null,
   "id": "0f7ff316",
   "metadata": {},
   "outputs": [],
   "source": [
    "def solution(n):\n",
    "    ans = 0\n",
    "    i = 1\n",
    "    while n != 1:\n",
    "        if n % 2 == 1:\n",
    "            i += 1\n",
    "            n -= 1\n",
    "        n = n//2\n",
    "    \n",
    "    return i"
   ]
  },
  {
   "cell_type": "markdown",
   "id": "eef7b09c",
   "metadata": {},
   "source": [
    "- n에서 시작해서 1에 도달할때까지 2로 나누어 주는데 만약 2로 나누어지지 않으면 1을 뺀 후에 나누어준다.\n",
    "- 정확성, 효율성 테스트 모두 통과하였다."
   ]
  },
  {
   "cell_type": "code",
   "execution_count": null,
   "id": "77ff4d7c",
   "metadata": {},
   "outputs": [],
   "source": []
  }
 ],
 "metadata": {
  "kernelspec": {
   "display_name": "Python 3 (ipykernel)",
   "language": "python",
   "name": "python3"
  },
  "language_info": {
   "codemirror_mode": {
    "name": "ipython",
    "version": 3
   },
   "file_extension": ".py",
   "mimetype": "text/x-python",
   "name": "python",
   "nbconvert_exporter": "python",
   "pygments_lexer": "ipython3",
   "version": "3.9.7"
  }
 },
 "nbformat": 4,
 "nbformat_minor": 5
}
