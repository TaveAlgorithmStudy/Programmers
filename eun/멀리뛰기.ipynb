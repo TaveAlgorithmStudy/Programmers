{
 "cells": [
  {
   "cell_type": "markdown",
   "id": "b6164773",
   "metadata": {},
   "source": [
    "#### 멀리뛰기\n",
    "\n",
    "-https://school.programmers.co.kr/learn/courses/30/lessons/12914\n",
    "- 효진이는 멀리 뛰기를 연습하고 있습니다. 효진이는 한번에 1칸, 또는 2칸을 뛸 수 있습니다. 칸이 총 4개 있을 때, 효진이는\n",
    "```\n",
    "(1칸, 1칸, 1칸, 1칸)\n",
    "(1칸, 2칸, 1칸)\n",
    "(1칸, 1칸, 2칸)\n",
    "(2칸, 1칸, 1칸)\n",
    "(2칸, 2칸)\n",
    "의 5가지 방법으로 맨 끝 칸에 도달할 수 있습니다. \n",
    "```\n",
    "- 멀리뛰기에 사용될 칸의 수 n이 주어질 때, 효진이가 끝에 도달하는 방법이 몇 가지인지 알아내, 여기에 1234567를 나눈 나머지를 리턴하는 함수, solution을 완성하세요. 예를 들어 4가 입력된다면, 5를 return하면 됩니다."
   ]
  },
  {
   "cell_type": "code",
   "execution_count": 1,
   "id": "142a4738",
   "metadata": {},
   "outputs": [],
   "source": [
    "def solution(n):\n",
    "    if n<3:\n",
    "        return n\n",
    "    \n",
    "    a, b =1,2,\n",
    "    for i in range(3,n+2):\n",
    "        a,b = b,a+b\n",
    "    return a%1234567"
   ]
  },
  {
   "cell_type": "code",
   "execution_count": 2,
   "id": "cb3dbedb",
   "metadata": {},
   "outputs": [
    {
     "data": {
      "text/plain": [
       "5"
      ]
     },
     "execution_count": 2,
     "metadata": {},
     "output_type": "execute_result"
    }
   ],
   "source": [
    "solution(4)"
   ]
  },
  {
   "cell_type": "code",
   "execution_count": 3,
   "id": "4f0bf99e",
   "metadata": {},
   "outputs": [
    {
     "data": {
      "text/plain": [
       "3"
      ]
     },
     "execution_count": 3,
     "metadata": {},
     "output_type": "execute_result"
    }
   ],
   "source": [
    "solution(3)"
   ]
  },
  {
   "cell_type": "code",
   "execution_count": 4,
   "id": "3978519a",
   "metadata": {},
   "outputs": [
    {
     "data": {
      "text/plain": [
       "8"
      ]
     },
     "execution_count": 4,
     "metadata": {},
     "output_type": "execute_result"
    }
   ],
   "source": [
    "solution(5)"
   ]
  },
  {
   "cell_type": "markdown",
   "id": "787fd13f",
   "metadata": {},
   "source": [
    "- n=2: (1,1), (2,0) => 2\n",
    "- n=3: (2, 1), (1, 2), (1, 1, 1) => 3\n",
    "- n=4: (1, 1, 1, 1), (1, 2, 1), (1, 1, 2), (2, 1, 1), (2, 2) => 5\n",
    "- n=5: ... => 8\n",
    "\n",
    "\n",
    "- 재귀 구조: 피보나치 수열과 유사함\n",
    "- n<=3까지 본인 자신을 return\n",
    "- n>3: 재귀구조"
   ]
  },
  {
   "cell_type": "code",
   "execution_count": 5,
   "id": "57282eff",
   "metadata": {},
   "outputs": [],
   "source": [
    "def solution2(n):\n",
    "    if n<3:\n",
    "        return n\n",
    "    return (solution(n-1) + solution(n-2))%1234567"
   ]
  },
  {
   "cell_type": "code",
   "execution_count": 6,
   "id": "000e04ff",
   "metadata": {},
   "outputs": [
    {
     "data": {
      "text/plain": [
       "5"
      ]
     },
     "execution_count": 6,
     "metadata": {},
     "output_type": "execute_result"
    }
   ],
   "source": [
    "solution2(4)"
   ]
  },
  {
   "cell_type": "code",
   "execution_count": 7,
   "id": "e9b06678",
   "metadata": {},
   "outputs": [
    {
     "data": {
      "text/plain": [
       "3"
      ]
     },
     "execution_count": 7,
     "metadata": {},
     "output_type": "execute_result"
    }
   ],
   "source": [
    "solution2(3)"
   ]
  },
  {
   "cell_type": "code",
   "execution_count": 8,
   "id": "3b669dbb",
   "metadata": {},
   "outputs": [
    {
     "data": {
      "text/plain": [
       "8"
      ]
     },
     "execution_count": 8,
     "metadata": {},
     "output_type": "execute_result"
    }
   ],
   "source": [
    "solution2(5)"
   ]
  },
  {
   "cell_type": "markdown",
   "id": "ac211025",
   "metadata": {},
   "source": [
    "timeout"
   ]
  }
 ],
 "metadata": {
  "kernelspec": {
   "display_name": "Python 3",
   "language": "python",
   "name": "python3"
  },
  "language_info": {
   "codemirror_mode": {
    "name": "ipython",
    "version": 3
   },
   "file_extension": ".py",
   "mimetype": "text/x-python",
   "name": "python",
   "nbconvert_exporter": "python",
   "pygments_lexer": "ipython3",
   "version": "3.8.8"
  }
 },
 "nbformat": 4,
 "nbformat_minor": 5
}
