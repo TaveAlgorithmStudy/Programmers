{
 "cells": [
  {
   "cell_type": "markdown",
   "id": "fba985b5",
   "metadata": {},
   "source": [
    "#### 땅따먹기\n",
    "\n",
    "- https://school.programmers.co.kr/learn/courses/30/lessons/12913\n",
    "- 땅따먹기 게임을 하려고 합니다. 땅따먹기 게임의 땅(land)은 총 N행 4열로 이루어져 있고, 모든 칸에는 점수가 쓰여 있습니다. 1행부터 땅을 밟으며 한 행씩 내려올 때, 각 행의 4칸 중 한 칸만 밟으면서 내려와야 합니다. 단, 땅따먹기 게임에는 한 행씩 내려올 때, 같은 열을 연속해서 밟을 수 없는 특수 규칙이 있습니다.\n",
    "\n",
    "```\n",
    "예를 들면,\n",
    "\n",
    "| 1 | 2 | 3 | 5 |\n",
    "\n",
    "| 5 | 6 | 7 | 8 |\n",
    "\n",
    "| 4 | 3 | 2 | 1 |\n",
    "\n",
    "로 땅이 주어졌다면, 1행에서 네번째 칸 (5)를 밟았으면, 2행의 네번째 칸 (8)은 밟을 수 없습니다.\n",
    "\n",
    "마지막 행까지 모두 내려왔을 때, 얻을 수 있는 점수의 최대값을 return하는 solution 함수를 완성해 주세요. 위 예의 경우, 1행의 네번째 칸 (5), 2행의 세번째 칸 (7), 3행의 첫번째 칸 (4) 땅을 밟아 16점이 최고점이 되므로 16을 return 하면 됩니다.\n",
    "```"
   ]
  },
  {
   "cell_type": "code",
   "execution_count": 1,
   "id": "c81ce3e3",
   "metadata": {},
   "outputs": [],
   "source": [
    "def solution(land):\n",
    "    for i in range(1, len(land)):\n",
    "        for j in range(len(land[0])):\n",
    "            #앞의 행에서 해당 열 제외 최대값 더하기\n",
    "            land[i][j] += max(land[i-1][:j]+land[i-1][j+1:])\n",
    "        \n",
    "    return max(land[len(land)-1])"
   ]
  },
  {
   "cell_type": "code",
   "execution_count": 2,
   "id": "01e9b1a2",
   "metadata": {},
   "outputs": [
    {
     "data": {
      "text/plain": [
       "16"
      ]
     },
     "execution_count": 2,
     "metadata": {},
     "output_type": "execute_result"
    }
   ],
   "source": [
    "land = [[1,2,3,5],[5,6,7,8],[4,3,2,1]]\n",
    "solution(land)"
   ]
  },
  {
   "cell_type": "code",
   "execution_count": 7,
   "id": "4a13e3ea",
   "metadata": {},
   "outputs": [],
   "source": [
    "def solution2(land):\n",
    "    n = len(land)\n",
    "\n",
    "    # dp[i][j] = i행 j열에서 점수의 최대값\n",
    "    dp = [[0,0,0,0]] + land\n",
    "    for i in range(1, n+1):\n",
    "        dp[i][0] += max(dp[i-1][1], dp[i-1][2], dp[i-1][3])\n",
    "        dp[i][1] += max(dp[i-1][0], dp[i-1][2], dp[i-1][3])\n",
    "        dp[i][2] += max(dp[i-1][0], dp[i-1][1], dp[i-1][3])\n",
    "        dp[i][3] += max(dp[i-1][0], dp[i-1][1], dp[i-1][2])\n",
    "        print(dp)\n",
    "    return max(dp[n])"
   ]
  },
  {
   "cell_type": "code",
   "execution_count": 4,
   "id": "58cad76d",
   "metadata": {},
   "outputs": [
    {
     "data": {
      "text/plain": [
       "16"
      ]
     },
     "execution_count": 4,
     "metadata": {},
     "output_type": "execute_result"
    }
   ],
   "source": [
    "land = [[1,2,3,5],[5,6,7,8],[4,3,2,1]]\n",
    "solution2(land)"
   ]
  },
  {
   "cell_type": "code",
   "execution_count": 8,
   "id": "111287de",
   "metadata": {},
   "outputs": [
    {
     "name": "stdout",
     "output_type": "stream",
     "text": [
      "[[0, 0, 0, 0], [1, 2, 3, 5], [5, 6, 7, 8], [4, 3, 2, 1]]\n",
      "[[0, 0, 0, 0], [1, 2, 3, 5], [10, 11, 12, 11], [4, 3, 2, 1]]\n",
      "[[0, 0, 0, 0], [1, 2, 3, 5], [10, 11, 12, 11], [16, 15, 13, 13]]\n"
     ]
    },
    {
     "data": {
      "text/plain": [
       "16"
      ]
     },
     "execution_count": 8,
     "metadata": {},
     "output_type": "execute_result"
    }
   ],
   "source": [
    "land = [[1,2,3,5],[5,6,7,8],[4,3,2,1]]\n",
    "solution2(land)"
   ]
  }
 ],
 "metadata": {
  "kernelspec": {
   "display_name": "Python 3",
   "language": "python",
   "name": "python3"
  },
  "language_info": {
   "codemirror_mode": {
    "name": "ipython",
    "version": 3
   },
   "file_extension": ".py",
   "mimetype": "text/x-python",
   "name": "python",
   "nbconvert_exporter": "python",
   "pygments_lexer": "ipython3",
   "version": "3.8.8"
  }
 },
 "nbformat": 4,
 "nbformat_minor": 5
}
