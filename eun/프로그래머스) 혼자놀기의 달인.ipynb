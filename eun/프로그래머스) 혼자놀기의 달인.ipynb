{
 "cells": [
  {
   "cell_type": "code",
   "execution_count": 32,
   "id": "fd2fd4e4",
   "metadata": {},
   "outputs": [],
   "source": [
    "def solution(cards):\n",
    "    board, n = [[] for _ in range(len(cards))], len(cards)\n",
    "    \n",
    "    for i in range(n):\n",
    "        temp = cards[i]\n",
    "        for j in range(n):\n",
    "            board[i].append(temp)\n",
    "            temp = cards[temp-1]\n",
    "            if temp in board[i]:\n",
    "                break\n",
    "        print(board)\n",
    "        board[i].sort()\n",
    "        \n",
    "\n",
    "    answer_list = list()\n",
    "    for i in board:\n",
    "        if i not in answer_list:\n",
    "            answer_list.append(i)\n",
    "            print(answer_list)\n",
    "            \n",
    "    if len(answer_list) <= 1:\n",
    "        return 0\n",
    "    else:\n",
    "        answer_list.sort (key=lambda x: len (x), reverse=True)\n",
    "        return len(answer_list[0]) * len(answer_list[1])"
   ]
  },
  {
   "cell_type": "code",
   "execution_count": 33,
   "id": "fb08212e",
   "metadata": {},
   "outputs": [
    {
     "name": "stdout",
     "output_type": "stream",
     "text": [
      "[[8, 4, 7, 1], [], [], [], [], [], [], []]\n",
      "[[1, 4, 7, 8], [6, 5, 2], [], [], [], [], [], []]\n",
      "[[1, 4, 7, 8], [2, 5, 6], [3], [], [], [], [], []]\n",
      "[[1, 4, 7, 8], [2, 5, 6], [3], [7, 1, 8, 4], [], [], [], []]\n",
      "[[1, 4, 7, 8], [2, 5, 6], [3], [1, 4, 7, 8], [2, 6, 5], [], [], []]\n",
      "[[1, 4, 7, 8], [2, 5, 6], [3], [1, 4, 7, 8], [2, 5, 6], [5, 2, 6], [], []]\n",
      "[[1, 4, 7, 8], [2, 5, 6], [3], [1, 4, 7, 8], [2, 5, 6], [2, 5, 6], [1, 8, 4, 7], []]\n",
      "[[1, 4, 7, 8], [2, 5, 6], [3], [1, 4, 7, 8], [2, 5, 6], [2, 5, 6], [1, 4, 7, 8], [4, 7, 1, 8]]\n",
      "-----\n",
      "[[1, 4, 7, 8]]\n",
      "[[1, 4, 7, 8], [2, 5, 6]]\n",
      "[[1, 4, 7, 8], [2, 5, 6], [3]]\n"
     ]
    },
    {
     "data": {
      "text/plain": [
       "12"
      ]
     },
     "execution_count": 33,
     "metadata": {},
     "output_type": "execute_result"
    }
   ],
   "source": [
    "solution([8,6,3,7,2,5,1,4])"
   ]
  },
  {
   "cell_type": "code",
   "execution_count": 36,
   "id": "e1338ac5",
   "metadata": {},
   "outputs": [],
   "source": [
    "def solution(cards):\n",
    "    answer = []\n",
    "    for i in range(len(cards)):\n",
    "        tmp = []\n",
    "        while cards[i] not in tmp:\n",
    "            tmp.append(cards[i])\n",
    "            i = cards[i] - 1        \n",
    "        print(\"tmp:  \", tmp)\n",
    "        answer.append([] if sorted(tmp) in answer else sorted(tmp))\n",
    "        print(\"ans:  \", answer)\n",
    "        \n",
    "    answer.sort(key=len)\n",
    "\n",
    "    return len(answer[-1]) * len(answer[-2])\n"
   ]
  },
  {
   "cell_type": "code",
   "execution_count": 37,
   "id": "5b764169",
   "metadata": {},
   "outputs": [
    {
     "name": "stdout",
     "output_type": "stream",
     "text": [
      "tmp:   [8, 4, 7, 1]\n",
      "ans:   [[1, 4, 7, 8]]\n",
      "tmp:   [6, 5, 2]\n",
      "ans:   [[1, 4, 7, 8], [2, 5, 6]]\n",
      "tmp:   [3]\n",
      "ans:   [[1, 4, 7, 8], [2, 5, 6], [3]]\n",
      "tmp:   [7, 1, 8, 4]\n",
      "ans:   [[1, 4, 7, 8], [2, 5, 6], [3], []]\n",
      "tmp:   [2, 6, 5]\n",
      "ans:   [[1, 4, 7, 8], [2, 5, 6], [3], [], []]\n",
      "tmp:   [5, 2, 6]\n",
      "ans:   [[1, 4, 7, 8], [2, 5, 6], [3], [], [], []]\n",
      "tmp:   [1, 8, 4, 7]\n",
      "ans:   [[1, 4, 7, 8], [2, 5, 6], [3], [], [], [], []]\n",
      "tmp:   [4, 7, 1, 8]\n",
      "ans:   [[1, 4, 7, 8], [2, 5, 6], [3], [], [], [], [], []]\n"
     ]
    },
    {
     "data": {
      "text/plain": [
       "12"
      ]
     },
     "execution_count": 37,
     "metadata": {},
     "output_type": "execute_result"
    }
   ],
   "source": [
    "solution([8,6,3,7,2,5,1,4])"
   ]
  },
  {
   "cell_type": "code",
   "execution_count": 1,
   "id": "525c4e43",
   "metadata": {},
   "outputs": [],
   "source": [
    "from IPython.display import Image"
   ]
  },
  {
   "cell_type": "code",
   "execution_count": 2,
   "id": "3bd54b66",
   "metadata": {},
   "outputs": [
    {
     "data": {
      "image/png": "[encoded data removed]",
      "text/plain": [
       "<IPython.core.display.Image object>"
      ]
     },
     "execution_count": 2,
     "metadata": {},
     "output_type": "execute_result"
    }
   ],
   "source": [
    "Image(\"img/혼자놀기달인-1.png\")"
   ]
  },
  {
   "cell_type": "code",
   "execution_count": null,
   "id": "5518dcdf",
   "metadata": {},
   "outputs": [],
   "source": []
  }
 ],
 "metadata": {
  "kernelspec": {
   "display_name": "Python 3",
   "language": "python",
   "name": "python3"
  },
  "language_info": {
   "codemirror_mode": {
    "name": "ipython",
    "version": 3
   },
   "file_extension": ".py",
   "mimetype": "text/x-python",
   "name": "python",
   "nbconvert_exporter": "python",
   "pygments_lexer": "ipython3",
   "version": "3.8.8"
  }
 },
 "nbformat": 4,
 "nbformat_minor": 5
}
