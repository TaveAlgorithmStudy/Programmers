{
 "cells": [
  {
   "cell_type": "markdown",
   "id": "9b2915b3",
   "metadata": {},
   "source": [
    "## 주차 요금 계산\n",
    "- https://school.programmers.co.kr/learn/courses/30/lessons/92341"
   ]
  },
  {
   "cell_type": "code",
   "execution_count": 1,
   "id": "ac61dd1a",
   "metadata": {},
   "outputs": [],
   "source": [
    "import collections\n",
    "import math\n",
    "\n",
    "def get_times(times):\n",
    "    times = times.split(\":\")\n",
    "    return int(times[0])*60 + int(times[1])\n",
    "    \n",
    "def solution(fees, records):\n",
    "    answer = []\n",
    "    parking_times = collections.defaultdict(list)\n",
    "    for record in records:\n",
    "        record = record.split(\" \")\n",
    "        if record[2] == \"IN\":\n",
    "            parking_times[record[1]].append(record[0])\n",
    "        else:\n",
    "            times = get_times(record[0]) - get_times(parking_times[record[1]].pop())\n",
    "            parking_times[record[1]].append(times)    \n",
    "    \n",
    "    parking_times = dict(sorted(parking_times.items()))\n",
    "    \n",
    "    for k, v in parking_times.items():\n",
    "        if type(v[-1]) == str:\n",
    "            times = get_times('23:59') - get_times(parking_times[k].pop())\n",
    "            parking_times[k].append(times)\n",
    "            \n",
    "        if sum(parking_times[k]) < fees[0]: \n",
    "            answer.append(fees[1])\n",
    "        else:\n",
    "            answer.append(fees[1] + (math.ceil((sum(parking_times[k])-fees[0])/fees[2])) * fees[3])        \n",
    "    \n",
    "        \n",
    "    return answer"
   ]
  },
  {
   "cell_type": "code",
   "execution_count": 3,
   "id": "6931dea0",
   "metadata": {},
   "outputs": [
    {
     "data": {
      "text/plain": [
       "[14600, 34400, 5000]"
      ]
     },
     "execution_count": 3,
     "metadata": {},
     "output_type": "execute_result"
    }
   ],
   "source": [
    "solution([180, 5000, 10, 600],[\"05:34 5961 IN\", \"06:00 0000 IN\", \"06:34 0000 OUT\", \"07:59 5961 OUT\", \"07:59 0148 IN\", \"18:59 0000 IN\", \"19:09 0148 OUT\", \"22:59 5961 IN\", \"23:00 5961 OUT\"])"
   ]
  },
  {
   "cell_type": "code",
   "execution_count": 4,
   "id": "9514e6de",
   "metadata": {},
   "outputs": [
    {
     "data": {
      "text/plain": [
       "[14841]"
      ]
     },
     "execution_count": 4,
     "metadata": {},
     "output_type": "execute_result"
    }
   ],
   "source": [
    "solution([1, 461, 1, 10],[\"00:00 1234 IN\"])"
   ]
  }
 ],
 "metadata": {
  "kernelspec": {
   "display_name": "Python 3",
   "language": "python",
   "name": "python3"
  },
  "language_info": {
   "codemirror_mode": {
    "name": "ipython",
    "version": 3
   },
   "file_extension": ".py",
   "mimetype": "text/x-python",
   "name": "python",
   "nbconvert_exporter": "python",
   "pygments_lexer": "ipython3",
   "version": "3.8.8"
  }
 },
 "nbformat": 4,
 "nbformat_minor": 5
}
