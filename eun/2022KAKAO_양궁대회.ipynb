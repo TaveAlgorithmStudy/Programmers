{
 "cells": [
  {
   "cell_type": "markdown",
   "id": "a2274d94",
   "metadata": {},
   "source": [
    "## 양궁대회\n",
    "- https://school.programmers.co.kr/learn/courses/30/lessons/92342"
   ]
  },
  {
   "cell_type": "code",
   "execution_count": 1,
   "id": "2dc9d94d",
   "metadata": {},
   "outputs": [],
   "source": [
    "from collections import deque\n",
    "\n",
    "def bfs(n, info):    \n",
    "    res = []\n",
    "    # 10점부터 0점까지 차례로 화살을 쏜다\n",
    "    # 현재 몇점에 쏘고 있는 지와 어디에 얼만큼 쐈는지를 의미\n",
    "    # ex. 현재 8점 과녁에 쏠거고 10점에만 2발을 쐈다면?\n",
    "    # (2, [0, 0, 0, 0, 0, 0, 0, 0, 0, 0, 2]\n",
    "    q = deque([(0, [0, 0, 0, 0, 0, 0, 0, 0, 0, 0, 0])])\n",
    "    maxGap = 0 \n",
    "    \n",
    "    while q:\n",
    "        focus, arrow = q.popleft()\n",
    "        \n",
    "        # 종료조건 1) 화살 다 쏜 경우\n",
    "        # 점수 계산\n",
    "        if sum(arrow) == n:  \n",
    "            apeach, lion = 0, 0 #어피치의 점수, 라이언의 점수\n",
    "            for i in range(11):\n",
    "                if not (info[i] == 0 and arrow[i] == 0):\n",
    "                    if info[i] >= arrow[i]: # 어피치의 점수가 높다면\n",
    "                        apeach += 10 - i # 어피치의 점수 더해\n",
    "                    else: # 라이언의 점수가 높다면\n",
    "                        lion += 10 - i # 라이언의 점수 더해\n",
    "                        \n",
    "            if apeach < lion:  # 라이언이 이기면\n",
    "                gap = lion - apeach # 현재 경우의 점수 차\n",
    "                if maxGap > gap:\n",
    "                    continue\n",
    "                if maxGap < gap:\n",
    "                    maxGap = gap  # 최대점수차 갱신\n",
    "                    res.clear()\n",
    "                res.append(arrow)  # 최대점수차를 내는 화살상황 저장\n",
    "        \n",
    "        # 종료조건 2) 화살 더 쏜 경우 (극단적으로 어피치보다 1점을 더 쏜다면..?)\n",
    "        # 어치피 8점에 3발 / 한발 더 쏘기 위해서 8점에 4발 쏨\n",
    "        # 근데 이미 7발을 쏜 상태였다면? 화살을 더 썼으니까 종료\n",
    "        elif sum(arrow) > n:  \n",
    "            continue\n",
    "        \n",
    "        # 종료조건 3) 화살 덜 쏜 경우 (극단적으로 0발만 쏜다면..?)\n",
    "        # focus가 10인데 화살이 남은 경우\n",
    "        # 어피치가 8점에 1발 / 해당 점수 칸은 안쐈음\n",
    "        # [0, 0. 0. 0, 0 ] .. 이런 식으로 해서 끝까지 돌았는데 화살이 남았으니까 종료\n",
    "        elif focus == 10:  \n",
    "            tmp = arrow.copy()\n",
    "            tmp[focus] = n - sum(tmp)\n",
    "            q.append((-1, tmp))\n",
    "        \n",
    "        # 화살 쏘기\n",
    "        # 어피치를 이기려면\n",
    "        # 01) 어피치가 쏜 것보다 한발 더 쏘기\n",
    "        # 02) 어치피가 쏜 것은 안쏘고 다른 곳에 쏘기\n",
    "        else:  \n",
    "            # 어피치보다 1발 많이 쏘기\n",
    "            tmp = arrow.copy()\n",
    "            tmp[focus] = info[focus]+1 \n",
    "            q.append((focus+1, tmp)) # 다음 차례로 쏴야하니까 focust+1\n",
    "            \n",
    "            # 0발 쏘기\n",
    "            tmp2 = arrow.copy()\n",
    "            tmp2[focus] = 0\n",
    "            q.append((focus+1, tmp2))  \n",
    "            \n",
    "    return res\n",
    "\n",
    "def solution(n, info):\n",
    "    winList = bfs(n, info) #리턴 값이 winList에 저장(최대 점수차만 모아둔 곳)\n",
    "    \n",
    "    if not winList: # 원소가 없다면 라이언 이기는 경우 X\n",
    "        return [-1]\n",
    "    elif len(winList) == 1: # 한개만 존재한다면 경우의 수가 1개니까 바로 리턴\n",
    "        return winList[0]\n",
    "    else: # 여러 개 존재하면 가장 낮은 점수를 더 많이 맞힌 경우 리턴\n",
    "        return winList[-1] #focus를 기준으로 도입해서 높은 점수부터 화살을 쏘도록 했음, focus낮은게 나중에 리턴됨 따라서 마지막 원소"
   ]
  },
  {
   "cell_type": "code",
   "execution_count": 2,
   "id": "7989f998",
   "metadata": {},
   "outputs": [
    {
     "data": {
      "text/plain": [
       "[0, 2, 2, 0, 1, 0, 0, 0, 0, 0, 0]"
      ]
     },
     "execution_count": 2,
     "metadata": {},
     "output_type": "execute_result"
    }
   ],
   "source": [
    "solution(5,[2,1,1,1,0,0,0,0,0,0,0])"
   ]
  },
  {
   "cell_type": "code",
   "execution_count": 3,
   "id": "ec679e24",
   "metadata": {},
   "outputs": [
    {
     "data": {
      "text/plain": [
       "[1, 1, 1, 1, 1, 1, 1, 1, 0, 0, 2]"
      ]
     },
     "execution_count": 3,
     "metadata": {},
     "output_type": "execute_result"
    }
   ],
   "source": [
    "solution(10,[0,0,0,0,0,0,0,0,3,4,3])"
   ]
  }
 ],
 "metadata": {
  "kernelspec": {
   "display_name": "Python 3",
   "language": "python",
   "name": "python3"
  },
  "language_info": {
   "codemirror_mode": {
    "name": "ipython",
    "version": 3
   },
   "file_extension": ".py",
   "mimetype": "text/x-python",
   "name": "python",
   "nbconvert_exporter": "python",
   "pygments_lexer": "ipython3",
   "version": "3.8.8"
  }
 },
 "nbformat": 4,
 "nbformat_minor": 5
}
