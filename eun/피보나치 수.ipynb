{
 "cells": [
  {
   "cell_type": "markdown",
   "id": "b381e983",
   "metadata": {},
   "source": [
    "### 피보나치 수\n",
    "- https://school.programmers.co.kr/learn/courses/30/lessons/12945\n",
    "\n",
    "**[문제 설명]**\n",
    "\n",
    "피보나치 수는 F(0) = 0, F(1) = 1일 때, 1 이상의 n에 대하여 F(n) = F(n-1) + F(n-2) 가 적용되는 수 입니다.\n",
    "\n",
    "예를들어\n",
    "\n",
    "F(2) = F(0) + F(1) = 0 + 1 = 1\n",
    "F(3) = F(1) + F(2) = 1 + 1 = 2\n",
    "F(4) = F(2) + F(3) = 1 + 2 = 3\n",
    "F(5) = F(3) + F(4) = 2 + 3 = 5\n",
    "와 같이 이어집니다.\n",
    "\n",
    "2 이상의 n이 입력되었을 때, n번째 피보나치 수를 1234567으로 나눈 나머지를 리턴하는 함수, solution을 완성해 주세요."
   ]
  },
  {
   "cell_type": "code",
   "execution_count": 12,
   "id": "8b3c0b80",
   "metadata": {},
   "outputs": [],
   "source": [
    "def solution1(n):\n",
    "    if n < 2:\n",
    "        return n\n",
    "    else:\n",
    "        return (solution1(n-1) + solution1(n-2))%1234567"
   ]
  },
  {
   "cell_type": "code",
   "execution_count": 13,
   "id": "f46f3d97",
   "metadata": {},
   "outputs": [
    {
     "data": {
      "text/plain": [
       "5"
      ]
     },
     "execution_count": 13,
     "metadata": {},
     "output_type": "execute_result"
    }
   ],
   "source": [
    "solution1(5)"
   ]
  },
  {
   "cell_type": "markdown",
   "id": "e8eb86e0",
   "metadata": {},
   "source": [
    "타임아웃"
   ]
  },
  {
   "cell_type": "code",
   "execution_count": 15,
   "id": "849cdc13",
   "metadata": {},
   "outputs": [],
   "source": [
    "def solution2(n):\n",
    "    fibo = [0, 1]\n",
    "    for i in range(2, n+1):\n",
    "        fibo.append(fibo[i-1]+fibo[i-2])\n",
    "    print(fibo)\n",
    "    return fibo[-1]%1234567"
   ]
  },
  {
   "cell_type": "code",
   "execution_count": 16,
   "id": "f5a6d6be",
   "metadata": {},
   "outputs": [
    {
     "name": "stdout",
     "output_type": "stream",
     "text": [
      "[0, 1, 1, 2, 3, 5]\n"
     ]
    },
    {
     "data": {
      "text/plain": [
       "5"
      ]
     },
     "execution_count": 16,
     "metadata": {},
     "output_type": "execute_result"
    }
   ],
   "source": [
    "solution2(5)"
   ]
  },
  {
   "cell_type": "code",
   "execution_count": 1,
   "id": "68e08099",
   "metadata": {},
   "outputs": [],
   "source": [
    "def solution3(n):\n",
    "    a,b = 0,1\n",
    "    for i in range(n):\n",
    "        a,b = b,a+b\n",
    "        print(a,b)\n",
    "    return a"
   ]
  },
  {
   "cell_type": "code",
   "execution_count": 7,
   "id": "520df9b3",
   "metadata": {},
   "outputs": [
    {
     "name": "stdout",
     "output_type": "stream",
     "text": [
      "1 1\n",
      "1 2\n",
      "2 3\n",
      "3 5\n",
      "5 8\n"
     ]
    },
    {
     "data": {
      "text/plain": [
       "5"
      ]
     },
     "execution_count": 7,
     "metadata": {},
     "output_type": "execute_result"
    }
   ],
   "source": [
    "solution3(5)"
   ]
  },
  {
   "cell_type": "code",
   "execution_count": null,
   "id": "270d195c",
   "metadata": {},
   "outputs": [],
   "source": [
    "1 1 2 3 5 8 ..."
   ]
  }
 ],
 "metadata": {
  "kernelspec": {
   "display_name": "Python 3",
   "language": "python",
   "name": "python3"
  },
  "language_info": {
   "codemirror_mode": {
    "name": "ipython",
    "version": 3
   },
   "file_extension": ".py",
   "mimetype": "text/x-python",
   "name": "python",
   "nbconvert_exporter": "python",
   "pygments_lexer": "ipython3",
   "version": "3.8.8"
  }
 },
 "nbformat": 4,
 "nbformat_minor": 5
}
