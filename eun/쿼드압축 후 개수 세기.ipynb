{
 "cells": [
  {
   "cell_type": "code",
   "execution_count": null,
   "id": "d4c72757",
   "metadata": {},
   "outputs": [],
   "source": [
    "def solution(arr):\n",
    "    answer = [0, 0]\n",
    "    n = len(arr)\n",
    "    \n",
    "    def quard(x, y, n):\n",
    "        first = arr[x][y]\n",
    "        \n",
    "        for i in range(x, x + n):\n",
    "            for j in range(y, y + n):\n",
    "                if arr[i][j] != first:\n",
    "                    n //= 2\n",
    "                    \n",
    "                    quard(x, y, n) # (0,0) \n",
    "                    quard(x, y + n, n) # (0,2)\n",
    "                    quard(x + n, y, n) # (2,0)\n",
    "                    quard(x + n, y + n, n) #(2,2)\n",
    "                    return\n",
    "        \n",
    "        answer[first] += 1\n",
    "    \n",
    "    quard(0, 0, n)\n",
    "        \n",
    "    return (answer)"
   ]
  }
 ],
 "metadata": {
  "kernelspec": {
   "display_name": "Python 3",
   "language": "python",
   "name": "python3"
  },
  "language_info": {
   "codemirror_mode": {
    "name": "ipython",
    "version": 3
   },
   "file_extension": ".py",
   "mimetype": "text/x-python",
   "name": "python",
   "nbconvert_exporter": "python",
   "pygments_lexer": "ipython3",
   "version": "3.8.8"
  }
 },
 "nbformat": 4,
 "nbformat_minor": 5
}
